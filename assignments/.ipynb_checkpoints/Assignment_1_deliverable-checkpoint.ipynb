{
 "cells": [
  {
   "cell_type": "markdown",
   "id": "4ac53111",
   "metadata": {},
   "source": [
    "## A1 Part 2: Dataviz questions \n",
    "\n",
    "#### * What is the difference between data and metadata? How does that relate to the GPS tracks-example?\n",
    "\n",
    "Data can be understood as a set of raw facts that, when processed and cleaned, can hold a lot of information about the given subject. Metadata is information about the data itself, data about the data. For the gps\n",
    "WHen looking at the gps-tracker example, we can identify the metadata div having information about the garmin-connect product, whereas the data itself is mainly the longitude and latitudes at a specific time. \n",
    "\n",
    "The most common metadata examples are:  // as referenced from https://atlan.com/data-vs-metadata/\n",
    "- Title\n",
    "- Description\n",
    "- Tags or categories\n",
    "- Date of creation\n",
    "- Who created it\n",
    "- Source or origin\n",
    "- Count and description of variables or attributes (e.g. rows and columns count for a data table)\n"
   ]
  },
  {
   "cell_type": "markdown",
   "id": "2cdfd05d",
   "metadata": {},
   "source": [
    "#### * Sune says that the human eye is a great tool for data analysis. Do you agree? Explain why/why not.\n",
    "\n",
    "The human eye is indeed a powerful tool for data analysis, when the data is prepared in a manner that benefits the visual encoding. If the data is not presentable the eye can't really establish a differentiation between the features in the data, that might have a significant value. This comes to show easily if the data is purely presented in a \"messy\" fashion. This is why data visualization in itself is important, to ease the beholder's understanding using just their eyes. \n",
    "\n",
    "The eye is really fast at observing trends, but can then just as easily be tricked into seeing trends, where there perhaps are none.\n",
    "\n"
   ]
  },
  {
   "cell_type": "markdown",
   "id": "856804a1",
   "metadata": {},
   "source": [
    "#### * Simpson's paradox is hard to explain. Come up with your own example - or find one on line.\n",
    "One example I find easy to understand is the baseball-batter example. A player on 1 team can have a higher batting-average every year over several years, than another player, yet when looking at the total stats over those years, the second player can have an overall higher batting-average. This again just stems from the imbalance of the distribution of \"balls played\" during those years, which can then lead to the simpsons paradox.\n",
    "\n",
    "https://towardsdatascience.com/simpsons-paradox-d2f4d8f08d42"
   ]
  },
  {
   "cell_type": "markdown",
   "id": "1f33a639",
   "metadata": {},
   "source": [
    "#### * In your own words, explain the differnece between exploratory and explanatory data analysis.\n",
    "\n",
    "Even tough it is not entirely the same concept, I compare exploratory and explanatory data analysis to the concept of data \"exploration vs exploitation\", which is used in eg. reinforcement learning. Here it is a tradeoff of when you wish to continue exploring more about a given enviroment / dataset, or if you wish to dwelve more into and make the most of the data you currently have. Exploratory data analysis is a way of saying that you have a certain topic of interest, that you wish to uncover main aspects of a new problem, whereas explanatory data analysis aims to make you able to explain the core consequences and causes for a well-defined problem."
   ]
  },
  {
   "cell_type": "code",
   "execution_count": null,
   "id": "3a599c75",
   "metadata": {},
   "outputs": [],
   "source": []
  }
 ],
 "metadata": {
  "kernelspec": {
   "display_name": "Python 3 (ipykernel)",
   "language": "python",
   "name": "python3"
  },
  "language_info": {
   "codemirror_mode": {
    "name": "ipython",
    "version": 3
   },
   "file_extension": ".py",
   "mimetype": "text/x-python",
   "name": "python",
   "nbconvert_exporter": "python",
   "pygments_lexer": "ipython3",
   "version": "3.9.13"
  }
 },
 "nbformat": 4,
 "nbformat_minor": 5
}
