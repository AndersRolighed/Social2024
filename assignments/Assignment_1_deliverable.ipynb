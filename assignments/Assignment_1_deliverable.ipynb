{
 "cells": [
  {
   "cell_type": "markdown",
   "id": "445e2485",
   "metadata": {},
   "source": [
    "## A1 Part 2: Dataviz questions \n",
    "\n",
    "#### * What is the difference between data and metadata? How does that relate to the GPS tracks-example?\n",
    "\n",
    "Data can be understood as a set of raw facts that, when processed and cleaned, can hold a lot of information about the given subject. Metadata is information about the data itself, data about the data. For the gps\n",
    "WHen looking at the gps-tracker example, we can identify the metadata div having information about the garmin-connect product, whereas the data itself is mainly the longitude and latitudes at a specific time. \n",
    "\n",
    "The most common metadata examples are:  // as referenced from https://atlan.com/data-vs-metadata/\n",
    "- Title\n",
    "- Description\n",
    "- Tags or categories\n",
    "- Date of creation\n",
    "- Who created it\n",
    "- Source or origin\n",
    "- Count and description of variables or attributes (e.g. rows and columns count for a data table)\n"
   ]
  },
  {
   "cell_type": "markdown",
   "id": "9004c55b",
   "metadata": {},
   "source": [
    "#### * Sune says that the human eye is a great tool for data analysis. Do you agree? Explain why/why not.\n",
    "\n",
    "The human eye is indeed a powerful tool for data analysis, when the data is prepared in a manner that benefits the visual encoding. If the data is not presentable the eye can't really establish a differentiation between the features in the data, that might have a significant value. This comes to show easily if the data is purely presented in a \"messy\" fashion. This is why data visualization in itself is important, to ease the beholder's understanding using just their eyes. \n",
    "\n",
    "The eye is really fast at observing trends, but can then just as easily be tricked into seeing trends, where there perhaps are none.\n",
    "\n"
   ]
  },
  {
   "cell_type": "markdown",
   "id": "f3dcbfa8",
   "metadata": {},
   "source": [
    "#### * Simpson's paradox is hard to explain. Come up with your own example - or find one on line.\n",
    "One example I find easy to understand is the baseball-batter example. A player on 1 team can have a higher batting-average every year over several years, than another player, yet when looking at the total stats over those years, the second player can have an overall higher batting-average. This again just stems from the imbalance of the distribution of \"balls played\" during those years, which can then lead to the simpsons paradox.\n",
    "\n",
    "https://towardsdatascience.com/simpsons-paradox-d2f4d8f08d42"
   ]
  },
  {
   "cell_type": "markdown",
   "id": "dfd1e6ae",
   "metadata": {},
   "source": [
    "#### * In your own words, explain the differnece between exploratory and explanatory data analysis.\n",
    "\n",
    "Even tough it is not entirely the same concept, I compare exploratory and explanatory data analysis to the concept of data \"exploration vs exploitation\", which is used in eg. reinforcement learning. Here it is a tradeoff of when you wish to continue exploring more about a given enviroment / dataset, or if you wish to dwelve more into and make the most of the data you currently have. Exploratory data analysis is a way of saying that you have a certain topic of interest, that you wish to uncover main aspects of a new problem, whereas explanatory data analysis aims to make you able to explain the core consequences and causes for a well-defined problem."
   ]
  },
  {
   "cell_type": "markdown",
   "id": "b0900509",
   "metadata": {},
   "source": [
    "## A1 Part 4: Errors in the data\n",
    "\n",
    "1. In the temporal activity for `PROSTITUTION` something surprising is going on on Thursday. Remind yourself [**here**](https://raw.githubusercontent.com/suneman/socialdata2022/main/files/prostitution.png), where I've highlighted the phenomenon I'm talking about.\n",
    "2. Last week, when we investigated the details of how the timestamps are recorded using jitter-plots in the DAOST exercises, we saw that many more crimes were recorded e.g. on the hour, 15 minutes past the hour, and to a lesser in whole increments of 10 minutes. Crimes didn't appear to be recorded as frequently in between those round numbers. Remind yourself [**here**](https://raw.githubusercontent.com/suneman/socialdata2022/main/files/jitter.png), where I've highlighted the phenomenon I'm talking about.\n",
    "3. Also, the *Hall of Justice* on the 800 block of Bryant street seems to be an unlikely hotspot for sex offences. Take a look here [**here**](https://raw.githubusercontent.com/suneman/socialdata2022/main/files/crime_hot_spot.png)."
   ]
  },
  {
   "cell_type": "markdown",
   "id": "8eaa7917",
   "metadata": {},
   "source": [
    "#### * In each of the 3 examples we listed during Week 4, describe in your own words how the data-errors I call attention to above can bias the binned versions of the data. \n",
    "\n",
    "One thing is identifying and realizing that your data might have errors, and the next step is then to start thinking about the causation for said data-errors, as to prevent it, or to better understand how to circumvent them in the data-prepocessing, or ones might actually discover underlying structures in the data, that one had not thought off to begin with.\n",
    "\n",
    "1. Data Errors Impact: Errors in recording or reporting prostitution incidents, such as misclassification or inaccuracies in timestamps, can skew the temporal analysis. The causation for this data error can be hard to pin-point, but truly highlights a problem that would have otherwise gone unnoticed, had one not visualized it in such a manner.\n",
    "\n",
    "2. Data Errors Impact: Biases in timestamp recording, like higher frequency at specific intervals, can distort temporal distributions. This can be said to stem from police officers noting down the approximate time for the incident.\n",
    "\n",
    "3. Data Errors Impact: Errors in location data, such as mislabeling or geocoding inaccuracies, can misrepresent hotspot areas. The causation here can be due to inaccuracies in the adresses, or a general miss-labeling."
   ]
  },
  {
   "cell_type": "markdown",
   "id": "e89ae505",
   "metadata": {},
   "source": [
    "#### * Also, briefly mention how not noticing these errors can result in misconceptions about the underlying patterns of what's going on in San Francisco (and our modeling).\n",
    "\n",
    "1. Misconceptions: Overlooking errors could lead to false conclusions about prostitution patterns, affecting resource allocation.\n",
    "2. Misconceptions: Failing to address biases could lead to inaccurate conclusions about crime timing and resource allocation. This data-error also will impact a model heavily, as it indeed does display a trend in the data, more than a potential outlier.\n",
    "3. Misconceptions: Ignoring location errors could lead to false assumptions about crime hotspots, impacting law enforcement strategies.\n"
   ]
  },
  {
   "cell_type": "markdown",
   "id": "6f978193",
   "metadata": {},
   "source": [
    "#### * Find your own example of human noise in the data and visualize it.\n"
   ]
  },
  {
   "cell_type": "markdown",
   "id": "bc521fe0",
   "metadata": {},
   "source": [
    "#### * Did you find LLMs useful for anything in this exercise? Explain why/why not.\n",
    "A large language model can be tricky to utilize in an exercise like this, where the main goal is to do personal reflections on the observed errors and trends. Especially for tasks where the dilemmas are using data as well as pictures that are outside the reach of the LLM's database. We used an LLM to uncover more typical data-errors and their causations, as to better have an idea of the scope of the personal reflections."
   ]
  },
  {
   "cell_type": "code",
   "execution_count": null,
   "id": "b3678bb6",
   "metadata": {},
   "outputs": [],
   "source": []
  }
 ],
 "metadata": {
  "kernelspec": {
   "display_name": "Python 3 (ipykernel)",
   "language": "python",
   "name": "python3"
  },
  "language_info": {
   "codemirror_mode": {
    "name": "ipython",
    "version": 3
   },
   "file_extension": ".py",
   "mimetype": "text/x-python",
   "name": "python",
   "nbconvert_exporter": "python",
   "pygments_lexer": "ipython3",
   "version": "3.9.13"
  }
 },
 "nbformat": 4,
 "nbformat_minor": 5
}
