{
 "cells": [
  {
   "cell_type": "markdown",
   "id": "1f6bd9a0-d0e4-4052-9adb-f6ce08d2f558",
   "metadata": {},
   "source": [
    "# 1. Motivation.\n"
   ]
  },
  {
   "cell_type": "markdown",
   "id": "a8348ebf-c76a-4321-a24a-ac28c2bb2b54",
   "metadata": {},
   "source": [
    "### What is your dataset?\n"
   ]
  },
  {
   "cell_type": "markdown",
   "id": "292633e8-7f6e-47ee-bc75-6c83fd5d1a74",
   "metadata": {},
   "source": [
    "We are using the following datasets: \n",
    "\n",
    "**NYPD Arrest Data:** https://data.cityofnewyork.us/Public-Safety/NYPD-Arrests-Data-Historic-/8h9b-rp9u/about_data <br> \n",
    "5.72 Rows, 19 Columns\n",
    "\n",
    "**NYC Permitted Event Information:** https://data.cityofnewyork.us/City-Government/NYC-Permitted-Event-Information-Historical/bkfu-528j/about_data  <br>\n",
    "21.7M Rows, 12 Columns\n",
    "\n"
   ]
  },
  {
   "cell_type": "markdown",
   "id": "c51f4fff-2941-44a0-a650-0777ab45fd25",
   "metadata": {},
   "source": [
    "### Why did you choose this/these particular dataset(s)?\r\n"
   ]
  },
  {
   "cell_type": "markdown",
   "id": "bb2f594e-e3c3-4fef-b3c4-555e6107731f",
   "metadata": {},
   "source": [
    "We as a group are curious about the counter relationship between events and crime. The idea came from listening to the podcast that was referenced in the description of the final project, while being in the mindset of crime after the coursework. By thinking back to the spectacle that was the city-cleanup of San Francisco prior to the visit of the chinese president in november of 2023, this idea was born, that certain events might impact crime directly or inadverdently. The same can be said the other way around, if the increase in certain crimes have caused a diminishing of events in areas. Our hope is that these datasets will shed a light on exactly this, and actually provide valuable insight, if a user is to host an event."
   ]
  },
  {
   "cell_type": "markdown",
   "id": "786ce1cf-105d-4f7f-8cdd-58b51a29d392",
   "metadata": {},
   "source": [
    "### What was your goal for the end user's experience?\r\n"
   ]
  },
  {
   "cell_type": "markdown",
   "id": "5d4b58d7-4f7e-49c2-af41-2a41644b4276",
   "metadata": {},
   "source": [
    "By reading / using the end product of this project, the user should be able to learn what to expect from hosting this specific event in that specific area, in terms of crime, thus allowing for a potential forecasting and handling effect. The general findings of this project should overall provide the reader with information about the crime in New York across the different areas, while focusing on the trends of the different events, to inspire or deter the user from participating in events. Local police can use this information to hopefully better prioritize their involvment."
   ]
  },
  {
   "cell_type": "markdown",
   "id": "6dc0ac6b-9f72-4391-855d-387be73f7f43",
   "metadata": {},
   "source": [
    "# 2. Basic stats. Let's understand the dataset better\r\n"
   ]
  },
  {
   "cell_type": "markdown",
   "id": "58a20457-0021-4c19-ab8f-91e3f50a9dec",
   "metadata": {},
   "source": [
    "### Write about your choices in data cleaning and preprocessing\r\n"
   ]
  },
  {
   "cell_type": "markdown",
   "id": "3bbddfeb-c5a8-4ab4-a015-b6e044db47f0",
   "metadata": {},
   "source": [
    "One of the first things to note is the large dataset for the NYC Permitted Event Information. Weighing in at **4.5 GB** for this dataset alone, it is important to see if there is a way to shorten the data a bit, as to make it easier to do analysis. We of course do not want to lower the quality of the data in any way. <br>\n",
    "By removing duplicates in this dataset, about 40% of the data could be neglected. Now there are still several entries in the dataset for the same event, but where each day the event has been held, has its own entry. <br>\n",
    "The different datasets also have different yearly ranges, and thus allows for us to further remove data, that would not serve a purpose for the correlation investigation we are doing. The arrest data ranges from 2006 to 2023, whereas the event data ranges from 2008 to 2024."
   ]
  },
  {
   "cell_type": "markdown",
   "id": "36d7e7d0-d5db-4093-ac20-97ca83b46266",
   "metadata": {},
   "source": [
    "### Write a short section that discusses the dataset stats, containing key points/plots from your exploratory data analysis.\r\n"
   ]
  },
  {
   "cell_type": "markdown",
   "id": "1d4c2cc1-fa21-4c17-a5fc-750b3ca64bf6",
   "metadata": {},
   "source": [
    "We discovered that both datasets has as a feature the borough where the event or arrest took place (B(Bronx), S(Staten Island), K(Brooklyn), M(Manhattan), Q(Queens)). This could give a broad overview of some of the interesting findings, without having to go into  specific details about the longitude and latitude, and compare across the datasets. The arrest data is enriched with the coordinates, but the event data only has a location attributed in the format of: \"Event Location: Mount Eden Malls: Mount Eden Malls\". This means that there is a requirement for us to do data transformation between the Event Location attribute into a coordinate layout. <br>\n",
    "\n",
    "A major part of the event dataset consists of events of the Event Type \"Special Event\". This covers a wide range of events, and can prove difficult for us to draw meaningful conclusions from. One solution to this would be to use a machine learning model for language decoding on the name of the event, such as \"Event Name: Mt. Eden Farmer's Market\" into one of the other categories that exists within the Event Type feature. Thus removing the cases of special events completely).This mode could be trained upon data entries that falls outside the Special Event field, and could classify the remainding entries together with a confidence score. Based on the confidence score, we as the controllers, could determine if the classification is correct or if we should disregard this entry entirely. <br>\n",
    "\n",
    "While doing the exploratory analysis, we also look for anything that seem to be \"wrong\" in the data. As an example we removed 178 entries from the arrest data, based on the fact that these entries had values in the \"AGE_GROUP\" feature, that were in weird formats (913, 821, 1028 and more). Whereas the majority of the entries fell within value-categories as: \"<18\", \"18-25\", \"25-44\", \"44-65\", \"65+\".\r\n"
   ]
  },
  {
   "cell_type": "markdown",
   "id": "befc8fb5-5a63-4c33-89d8-ce7918e8e436",
   "metadata": {},
   "source": [
    "# 3. Data Analysis\r\n"
   ]
  },
  {
   "cell_type": "code",
   "execution_count": null,
   "id": "a91e9cad-266b-4f64-aaf6-2e80e21c7f27",
   "metadata": {},
   "outputs": [],
   "source": []
  }
 ],
 "metadata": {
  "kernelspec": {
   "display_name": "Python 3 (ipykernel)",
   "language": "python",
   "name": "python3"
  },
  "language_info": {
   "codemirror_mode": {
    "name": "ipython",
    "version": 3
   },
   "file_extension": ".py",
   "mimetype": "text/x-python",
   "name": "python",
   "nbconvert_exporter": "python",
   "pygments_lexer": "ipython3",
   "version": "3.9.19"
  }
 },
 "nbformat": 4,
 "nbformat_minor": 5
}
